{
 "cells": [
  {
   "cell_type": "raw",
   "metadata": {},
   "source": [
    "Vamos usar o arquivo \"exemplo.csv\". Inicialmente, carregamos o arquivo e imprimimos o seu conteúdo e plotamos o gráfico."
   ]
  },
  {
   "cell_type": "code",
   "execution_count": 1,
   "metadata": {},
   "outputs": [
    {
     "name": "stdout",
     "output_type": "stream",
     "text": [
      "           X           Y\n",
      "0  28.816847   60.854133\n",
      "1  35.757619   67.590670\n",
      "2  53.821076  110.762773\n",
      "3  58.215693  115.785785\n",
      "4  66.809748  125.311129\n",
      "5  78.252814  149.003866\n",
      "6  80.648697  159.619414\n",
      "7  81.296082  157.985286\n",
      "8  95.724162  197.179636\n",
      "9  99.958481  196.907397\n"
     ]
    },
    {
     "data": {
      "image/png": "[encoded data removed]",
      "text/plain": [
       "<Figure size 432x288 with 1 Axes>"
      ]
     },
     "metadata": {
      "needs_background": "light"
     },
     "output_type": "display_data"
    },
    {
     "name": "stdout",
     "output_type": "stream",
     "text": [
      "[[28.81684742]\n",
      " [35.75761893]\n",
      " [53.82107634]\n",
      " [58.21569264]\n",
      " [66.80974831]\n",
      " [78.25281369]\n",
      " [80.64869706]\n",
      " [81.29608217]\n",
      " [95.72416241]\n",
      " [99.95848131]]\n",
      "[[ 60.85413282]\n",
      " [ 67.59066954]\n",
      " [110.76277271]\n",
      " [115.78578459]\n",
      " [125.31112852]\n",
      " [149.00386554]\n",
      " [159.61941373]\n",
      " [157.98528569]\n",
      " [197.17963609]\n",
      " [196.90739698]]\n"
     ]
    }
   ],
   "source": [
    "import pandas as pd\n",
    "import numpy as np  # biblioteca que suporta arrays e matrizes multidimensionais - https://numpy.org/\n",
    "from sklearn import preprocessing # usado para preprocessar a base de dados (normalização)\n",
    "\n",
    "import matplotlib.pyplot as plt # biblioteca para plotar gráficos\n",
    "plt.rc(\"font\", size=14)\n",
    "\n",
    "import seaborn as sns # biblioteca de visualização de dados\n",
    "sns.set(style=\"white\")\n",
    "sns.set(style=\"whitegrid\", color_codes=True)\n",
    "\n",
    "data = pd.read_csv('exemplo.csv',header=0)\n",
    "print(data)\n",
    "\n",
    "# gráfico de dispersão - pode usar plt.plot(data['X'],data['Y'],'ro')\n",
    "plt.scatter(data['X'], data['Y'],cmap='red')\n",
    "\n",
    "# rótulo dos eixos e salvando o arquivo com a imagem\n",
    "plt.xlabel(\"Eixo X\")\n",
    "plt.ylabel(\"Eixo Y\")\n",
    "plt.savefig('pontos.png')\n",
    "plt.show()\n",
    "\n",
    "# transformando X e Y para numpy array. Ele precisa ser bidimensional (-1,1)\n",
    "X = data.iloc[:, 0].values.reshape(-1, 1) \n",
    "Y = data.iloc[:, 1].values.reshape(-1, 1) \n",
    "\n",
    "print(X)\n",
    "print(Y)"
   ]
  },
  {
   "cell_type": "raw",
   "metadata": {},
   "source": [
    "Vamos agora calcular a reta da regressão linear usando as fórmula apresentadas no vídeo 1 da aula 10:"
   ]
  },
  {
   "cell_type": "code",
   "execution_count": 2,
   "metadata": {},
   "outputs": [
    {
     "name": "stdout",
     "output_type": "stream",
     "text": [
      "media X   :  67.93012202823\n",
      "media X^2 :  5124.991702295573\n",
      "media Y   :  134.10000862119998\n",
      "media Y^2 :  19994.153430738115\n",
      "media XY  :  10117.850602443814\n",
      "\n",
      "teta0  -0.08892359520725088\n",
      "teta1  1.975396601829183\n",
      "\n",
      "Equação da Reta: Y =  -0.08892359520725088  +  1.975396601829183  * X\n"
     ]
    },
    {
     "data": {
      "image/png": "[encoded data removed]",
      "text/plain": [
       "<Figure size 432x288 with 1 Axes>"
      ]
     },
     "metadata": {
      "needs_background": "light"
     },
     "output_type": "display_data"
    },
    {
     "data": {
      "image/png": "[encoded data removed]",
      "text/plain": [
       "<Figure size 432x288 with 1 Axes>"
      ]
     },
     "metadata": {
      "needs_background": "light"
     },
     "output_type": "display_data"
    }
   ],
   "source": [
    "mediaX  = np.mean(X)\n",
    "mediaX2 = np.mean(X**2)\n",
    "mediaY  = np.mean(Y)\n",
    "mediaY2 = np.mean(Y**2)\n",
    "mediaXY = np.mean(X*Y)\n",
    "\n",
    "teta0 = (mediaY*mediaX2 - mediaX*mediaXY)/(mediaX2 - (mediaX)**2)\n",
    "teta1 = (mediaXY - mediaX*mediaY)/(mediaX2 - (mediaX)**2)\n",
    "\n",
    "print('media X   : ',np.mean(X))\n",
    "print('media X^2 : ',np.mean(X**2))\n",
    "print('media Y   : ',np.mean(Y))\n",
    "print('media Y^2 : ',np.mean(Y**2))\n",
    "print('media XY  : ',np.mean(X*Y))\n",
    "print()\n",
    "print('teta0 ',teta0)\n",
    "print('teta1 ',teta1)\n",
    "print()\n",
    "print('Equação da Reta: Y = ', teta0,' + ',teta1,' * X' )\n",
    "\n",
    "# plotando os pontos previstos e a reta\n",
    "Y_pred_media = teta0+teta1*X\n",
    "\n",
    "plt.scatter(X, Y,marker='o',color='blue')  #pontos originais\n",
    "plt.scatter(X, Y_pred_media,marker='+',color='red') #pontos previstos\n",
    "plt.savefig('pontos_originais_previstos.png')\n",
    "plt.show()\n",
    "\n",
    "plt.scatter(X, Y,marker='o',color='blue')  #pontos originais\n",
    "plt.scatter(X, Y_pred_media,marker='+',color='red') #pontos previstos\n",
    "plt.plot(X, Y_pred_media, color='gray')\n",
    "plt.savefig('reta_prevista.png')\n",
    "plt.show()"
   ]
  },
  {
   "cell_type": "markdown",
   "metadata": {},
   "source": [
    "### Letra a\n",
    "Calculando o erro quadrático médio."
   ]
  },
  {
   "cell_type": "code",
   "execution_count": 3,
   "metadata": {},
   "outputs": [
    {
     "name": "stdout",
     "output_type": "stream",
     "text": [
      "\n",
      "teta0:  [-0.0889236]\n",
      "teta1:  [1.9753966]\n",
      "\n",
      "Equação da Reta: Y =  [-0.0889236]  +  [1.9753966]  * X\n",
      "Erro quadrado médio: 19.310387739177333\n"
     ]
    }
   ],
   "source": [
    "from sklearn import linear_model\n",
    "from sklearn.metrics import mean_squared_error\n",
    "\n",
    "reg = linear_model.LinearRegression()\n",
    "reg.fit(X, Y)\n",
    "teta1 = reg.coef_[0]\n",
    "teta0 = reg.intercept_\n",
    "\n",
    "\n",
    "print()\n",
    "print('teta0: ',teta0)\n",
    "print('teta1: ',teta1)\n",
    "print()\n",
    "print('Equação da Reta: Y = ', teta0,' + ',teta1,' * X' )\n",
    "\n",
    "# plotando os pontos previstos e a reta\n",
    "Y_pred_media = teta0+teta1*X\n",
    "\n",
    "print(\"Erro quadrado médio:\", mean_squared_error(Y,Y_pred_media))\n"
   ]
  },
  {
   "cell_type": "markdown",
   "metadata": {},
   "source": [
    "### Letra b\n",
    "Dividindo o dataset em 70% e 30% teste"
   ]
  },
  {
   "cell_type": "code",
   "execution_count": 4,
   "metadata": {},
   "outputs": [
    {
     "name": "stdout",
     "output_type": "stream",
     "text": [
      "Dataset Original\n",
      "           X           Y\n",
      "0  28.816847   60.854133\n",
      "1  35.757619   67.590670\n",
      "2  53.821076  110.762773\n",
      "3  58.215693  115.785785\n",
      "4  66.809748  125.311129\n",
      "5  78.252814  149.003866\n",
      "6  80.648697  159.619414\n",
      "7  81.296082  157.985286\n",
      "8  95.724162  197.179636\n",
      "9  99.958481  196.907397\n",
      "\n",
      "Dataset Treinamento\n",
      "           X           Y\n",
      "0  35.757619   67.590670\n",
      "1  99.958481  196.907397\n",
      "2  58.215693  115.785785\n",
      "3  28.816847   60.854133\n",
      "4  95.724162  197.179636\n",
      "5  53.821076  110.762773\n",
      "6  80.648697  159.619414\n",
      "\n",
      "Dataset Teste\n",
      "           X           Y\n",
      "0  81.296082  157.985286\n",
      "1  78.252814  149.003866\n",
      "2  66.809748  125.311129\n"
     ]
    }
   ],
   "source": [
    "from sklearn import *\n",
    "\n",
    "# Importando o dataset\n",
    "data = pd.read_csv('exemplo.csv',header=0)\n",
    "print(\"Dataset Original\")\n",
    "print(data)\n",
    "print()\n",
    "\n",
    "# transformando X e Y para numpy array. Ele precisa ser bidimensional (-1,1)\n",
    "X = data.iloc[:, 0].values.reshape(-1, 1) \n",
    "Y = data.iloc[:, 1].values.reshape(-1, 1) \n",
    "\n",
    "# Seperando o teste e treinamento\n",
    "train =  0.7\n",
    "X_train, X_test, Y_train, Y_test = model_selection.train_test_split(X, Y, train_size = train, shuffle=True)\n",
    "\n",
    "# Mostrando o conjunto de treinamento\n",
    "AB = np.concatenate((X_train, Y_train), axis = 1)\n",
    "df = pd.DataFrame(AB, columns=['X', 'Y'])\n",
    "print(\"Dataset Treinamento\")\n",
    "print(df)\n",
    "print()\n",
    "\n",
    "# Mostrando o conjunto de teste\n",
    "AB = np.concatenate((X_test, Y_test), axis = 1)\n",
    "df = pd.DataFrame(AB, columns=['X', 'Y'])\n",
    "print(\"Dataset Teste\")\n",
    "print(df)"
   ]
  },
  {
   "cell_type": "code",
   "execution_count": 5,
   "metadata": {},
   "outputs": [
    {
     "name": "stdout",
     "output_type": "stream",
     "text": [
      "\n",
      "teta0:  [0.22236217]\n",
      "teta1:  [2.00277766]\n",
      "\n",
      "Equação da Reta: Y =  [0.22236217]  +  [2.00277766]  * X\n",
      "Erro quadrado médio: 54.864898338503316\n"
     ]
    }
   ],
   "source": [
    "reg = linear_model.LinearRegression()\n",
    "reg.fit(X_train, Y_train)\n",
    "\n",
    "teta1 = reg.coef_[0]\n",
    "teta0 = reg.intercept_\n",
    "\n",
    "\n",
    "print()\n",
    "print('teta0: ',teta0)\n",
    "print('teta1: ',teta1)\n",
    "print()\n",
    "print('Equação da Reta: Y = ', teta0,' + ',teta1,' * X' )\n",
    "\n",
    "# plotando os pontos previstos e a reta\n",
    "Y_pred_media = teta0+teta1*X_test\n",
    "\n",
    "print(\"Erro quadrado médio:\", mean_squared_error(Y_test,Y_pred_media))\n"
   ]
  },
  {
   "cell_type": "markdown",
   "metadata": {},
   "source": [
    "## Questao 2"
   ]
  },
  {
   "cell_type": "markdown",
   "metadata": {},
   "source": [
    "### Letra a"
   ]
  },
  {
   "cell_type": "code",
   "execution_count": 11,
   "metadata": {},
   "outputs": [
    {
     "data": {
      "image/png": "[encoded data removed]",
      "text/plain": [
       "<Figure size 432x288 with 1 Axes>"
      ]
     },
     "metadata": {
      "needs_background": "light"
     },
     "output_type": "display_data"
    }
   ],
   "source": [
    "data = pd.read_csv('multi.csv',header=0)\n",
    "# print(\"Dataset Original\")\n",
    "# print(data)\n",
    "# print()\n",
    "\n",
    "# transformando X e Y para numpy array. Ele precisa ser bidimensional (-1,1)\n",
    "X1 = data.iloc[:, 0].values.reshape(-1, 1)\n",
    "X2 = data.iloc[:, 1].values.reshape(-1, 1)\n",
    "X3 = data.iloc[:, 2].values.reshape(-1, 1)\n",
    "X4 = data.iloc[:, 3].values.reshape(-1, 1)\n",
    "Y = data.iloc[:, 4].values.reshape(-1, 1) \n",
    "X = X2\n",
    "plt.scatter(X, Y,cmap='red')\n",
    "\n",
    "# rótulo dos eixos e salvando o arquivo com a imagem\n",
    "plt.xlabel(\"Eixo X\")\n",
    "plt.ylabel(\"Eixo Y\")\n",
    "plt.savefig('x1.png')\n",
    "plt.show()\n"
   ]
  },
  {
   "cell_type": "code",
   "execution_count": 12,
   "metadata": {},
   "outputs": [
    {
     "name": "stdout",
     "output_type": "stream",
     "text": [
      "\n",
      "teta0  [883.12878788]\n",
      "teta1  [28.76223776]\n",
      "\n",
      "Equação da Reta: Y =  [883.12878788]  +  [28.76223776]  * X\n"
     ]
    },
    {
     "data": {
      "image/png": "[encoded data removed]",
      "text/plain": [
       "<Figure size 432x288 with 1 Axes>"
      ]
     },
     "metadata": {
      "needs_background": "light"
     },
     "output_type": "display_data"
    },
    {
     "data": {
      "image/png": "[encoded data removed]",
      "text/plain": [
       "<Figure size 432x288 with 1 Axes>"
      ]
     },
     "metadata": {
      "needs_background": "light"
     },
     "output_type": "display_data"
    }
   ],
   "source": [
    "reg = linear_model.LinearRegression()\n",
    "reg.fit(X, Y)\n",
    "\n",
    "teta1 = reg.coef_[0]\n",
    "teta0 = reg.intercept_\n",
    "\n",
    "print()\n",
    "print('teta0 ',teta0)\n",
    "print('teta1 ',teta1)\n",
    "print()\n",
    "print('Equação da Reta: Y = ', teta0,' + ',teta1,' * X' )\n",
    "\n",
    "# plotando os pontos previstos e a reta\n",
    "Y_pred_media = teta0+teta1*X\n",
    "\n",
    "plt.scatter(X, Y,marker='o',color='blue')  #pontos originais\n",
    "plt.scatter(X, Y_pred_media,marker='+',color='red') #pontos previstos\n",
    "plt.savefig('pontos_originais_previstos.png')\n",
    "plt.show()\n",
    "\n",
    "plt.scatter(X, Y,marker='o',color='blue')  #pontos originais\n",
    "plt.scatter(X, Y_pred_media,marker='+',color='red') #pontos previstos\n",
    "plt.plot(X, Y_pred_media, color='gray')\n",
    "plt.savefig('reta_prevista.png')\n",
    "plt.show()"
   ]
  }
 ],
 "metadata": {
  "kernelspec": {
   "display_name": "Python 3.10.4 64-bit",
   "language": "python",
   "name": "python3"
  },
  "language_info": {
   "codemirror_mode": {
    "name": "ipython",
    "version": 3
   },
   "file_extension": ".py",
   "mimetype": "text/x-python",
   "name": "python",
   "nbconvert_exporter": "python",
   "pygments_lexer": "ipython3",
   "version": "3.10.4"
  },
  "vscode": {
   "interpreter": {
    "hash": "8edc000019d7851bcb93f645abcdc7e3159d4451ab9610fb6ecb081fe958828c"
   }
  }
 },
 "nbformat": 4,
 "nbformat_minor": 2
}
