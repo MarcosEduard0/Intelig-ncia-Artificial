{
  "cells": [
    {
      "cell_type": "code",
      "execution_count": 1,
      "metadata": {
        "colab": {
          "base_uri": "https://localhost:8080/"
        },
        "id": "MFGB_lTPEPLC",
        "outputId": "979f1b9b-0dc1-4c2c-d219-0347e89c8b1b"
      },
      "outputs": [
        {
          "name": "stdout",
          "output_type": "stream",
          "text": [
            "Treinamento Index:  [ 5  6  7  8  9 10 11 12 13]\n",
            "Teste Index:  [0 1 2 3 4]\n",
            "[['Chuvendo' 'Frio' 'Normal' 'Forte' 'Nao']\n",
            " ['Nublado' 'Frio' 'Normal' 'Forte' 'Sim']\n",
            " ['Ensolarado' 'Moderado' 'Alta' 'Fraco' 'Nao']\n",
            " ['Ensolarado' 'Frio' 'Normal' 'Fraco' 'Sim']\n",
            " ['Chuvendo' 'Moderado' 'Normal' 'Fraco' 'Sim']\n",
            " ['Ensolarado' 'Moderado' 'Normal' 'Forte' 'Sim']\n",
            " ['Nublado' 'Moderado' 'Alta' 'Forte' 'Sim']\n",
            " ['Nublado' 'Quente' 'Normal' 'Fraco' 'Sim']\n",
            " ['Chuvendo' 'Moderado' 'Alta' 'Forte' 'Nao']]\n",
            "['Nao' 'Sim' 'Nao' 'Sim' 'Sim' 'Sim' 'Sim' 'Sim' 'Nao']\n",
            "\n",
            "\n",
            "Treinamento Index:  [ 0  1  2  3  4 10 11 12 13]\n",
            "Teste Index:  [5 6 7 8 9]\n",
            "[['Ensolarado' 'Quente' 'Alta' 'Fraco' 'Nao']\n",
            " ['Ensolarado' 'Quente' 'Alta' 'Forte' 'Nao']\n",
            " ['Nublado' 'Quente' 'Alta' 'Fraco' 'Sim']\n",
            " ['Chuvendo' 'Moderado' 'Alta' 'Fraco' 'Sim']\n",
            " ['Chuvendo' 'Frio' 'Normal' 'Fraco' 'Sim']\n",
            " ['Ensolarado' 'Moderado' 'Normal' 'Forte' 'Sim']\n",
            " ['Nublado' 'Moderado' 'Alta' 'Forte' 'Sim']\n",
            " ['Nublado' 'Quente' 'Normal' 'Fraco' 'Sim']\n",
            " ['Chuvendo' 'Moderado' 'Alta' 'Forte' 'Nao']]\n",
            "['Nao' 'Nao' 'Sim' 'Sim' 'Sim' 'Sim' 'Sim' 'Sim' 'Nao']\n",
            "\n",
            "\n",
            "Treinamento Index:  [0 1 2 3 4 5 6 7 8 9]\n",
            "Teste Index:  [10 11 12 13]\n",
            "[['Ensolarado' 'Quente' 'Alta' 'Fraco' 'Nao']\n",
            " ['Ensolarado' 'Quente' 'Alta' 'Forte' 'Nao']\n",
            " ['Nublado' 'Quente' 'Alta' 'Fraco' 'Sim']\n",
            " ['Chuvendo' 'Moderado' 'Alta' 'Fraco' 'Sim']\n",
            " ['Chuvendo' 'Frio' 'Normal' 'Fraco' 'Sim']\n",
            " ['Chuvendo' 'Frio' 'Normal' 'Forte' 'Nao']\n",
            " ['Nublado' 'Frio' 'Normal' 'Forte' 'Sim']\n",
            " ['Ensolarado' 'Moderado' 'Alta' 'Fraco' 'Nao']\n",
            " ['Ensolarado' 'Frio' 'Normal' 'Fraco' 'Sim']\n",
            " ['Chuvendo' 'Moderado' 'Normal' 'Fraco' 'Sim']]\n",
            "['Nao' 'Nao' 'Sim' 'Sim' 'Sim' 'Nao' 'Sim' 'Nao' 'Sim' 'Sim']\n",
            "\n",
            "\n"
          ]
        }
      ],
      "source": [
        "from sklearn.model_selection import KFold\n",
        "import pandas as pd\n",
        "\n",
        "col_names = ['Clima','Temperatura','Umidade','Vento','JogarTenis']\n",
        "df = pd.read_csv('exemplo_IA.csv',header=None, names=col_names)\n",
        "df.head() \n",
        "X = df[col_names].values\n",
        "Y=df['JogarTenis'].values\n",
        "#X=pd.DataFrame(X)\n",
        "#Y=pd.DataFrame(Y)\n",
        "cv = KFold(n_splits=3, random_state=None, shuffle=False)\n",
        "for train_index, test_index in cv.split(X):\n",
        "    print(\"Treinamento Index: \", train_index)\n",
        "    print(\"Teste Index: \", test_index)\n",
        "    X_train, X_test, Y_train, Y_test = X[train_index], X[test_index], Y[train_index], Y[test_index]\n",
        "    print(X_train)\n",
        "    print(Y_train)\n",
        "    print(\"\\n\")"
      ]
    }
  ],
  "metadata": {
    "colab": {
      "collapsed_sections": [],
      "name": "Untitled0.ipynb",
      "provenance": []
    },
    "kernelspec": {
      "display_name": "Python 3.8.10 64-bit",
      "language": "python",
      "name": "python3"
    },
    "language_info": {
      "codemirror_mode": {
        "name": "ipython",
        "version": 3
      },
      "file_extension": ".py",
      "mimetype": "text/x-python",
      "name": "python",
      "nbconvert_exporter": "python",
      "pygments_lexer": "ipython3",
      "version": "3.8.10"
    },
    "vscode": {
      "interpreter": {
        "hash": "916dbcbb3f70747c44a77c7bcd40155683ae19c65e1c03b4aa3499c5328201f1"
      }
    }
  },
  "nbformat": 4,
  "nbformat_minor": 0
}
