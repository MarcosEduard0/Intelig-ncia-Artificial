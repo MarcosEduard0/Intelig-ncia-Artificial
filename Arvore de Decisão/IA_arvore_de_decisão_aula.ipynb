{
  "cells": [
    {
      "cell_type": "markdown",
      "metadata": {
        "collapsed": true,
        "id": "e-GK_P5dHKP_"
      },
      "source": [
        "Árvore de Decisão\n",
        "\n",
        "Inicialmente são carregadas as bibliotecas necessárias: \n",
        "\n",
        "+ pandas (https://pandas.pydata.org/): biblioteca para análise de dados em python\n",
        "+ scikit-learn (https://scikit-learn.org/stable/): biblioteca de ferramentas de aprendizagem de máquina em python"
      ]
    },
    {
      "cell_type": "code",
      "execution_count": 1,
      "metadata": {
        "collapsed": true,
        "id": "tXZiUqiAHKQG"
      },
      "outputs": [],
      "source": [
        "# Carregando Bibliotecas\n",
        "import pandas as pd\n",
        "from sklearn.tree import DecisionTreeClassifier # Importa o classificador de árvore de decisão\n",
        "from sklearn import *\n",
        "from sklearn.model_selection import KFold, cross_val_score"
      ]
    },
    {
      "cell_type": "markdown",
      "metadata": {},
      "source": [
        "# Importando o dataset"
      ]
    },
    {
      "cell_type": "code",
      "execution_count": 2,
      "metadata": {
        "collapsed": true,
        "id": "t5s1fo9JHKQI"
      },
      "outputs": [],
      "source": [
        "# Nome dos atributos\n",
        "col_names = ['Clima','Temperatura','Umidade','Vento','JogarTenis']\n",
        "\n",
        "# carregando a base de dados a ser usada\n",
        "exemplo = pd.read_csv(\"exemplo_IA.csv\", header=None, names=col_names)"
      ]
    },
    {
      "cell_type": "code",
      "execution_count": 3,
      "metadata": {
        "colab": {
          "base_uri": "https://localhost:8080/",
          "height": 206
        },
        "collapsed": true,
        "id": "bp41P6b9HKQJ",
        "outputId": "3b90eda2-c101-48a7-8d43-3b25d2b77516"
      },
      "outputs": [
        {
          "data": {
            "text/html": [
              "<div>\n",
              "<style scoped>\n",
              "    .dataframe tbody tr th:only-of-type {\n",
              "        vertical-align: middle;\n",
              "    }\n",
              "\n",
              "    .dataframe tbody tr th {\n",
              "        vertical-align: top;\n",
              "    }\n",
              "\n",
              "    .dataframe thead th {\n",
              "        text-align: right;\n",
              "    }\n",
              "</style>\n",
              "<table border=\"1\" class=\"dataframe\">\n",
              "  <thead>\n",
              "    <tr style=\"text-align: right;\">\n",
              "      <th></th>\n",
              "      <th>Clima</th>\n",
              "      <th>Temperatura</th>\n",
              "      <th>Umidade</th>\n",
              "      <th>Vento</th>\n",
              "      <th>JogarTenis</th>\n",
              "    </tr>\n",
              "  </thead>\n",
              "  <tbody>\n",
              "    <tr>\n",
              "      <th>0</th>\n",
              "      <td>Ensolarado</td>\n",
              "      <td>Quente</td>\n",
              "      <td>Alta</td>\n",
              "      <td>Fraco</td>\n",
              "      <td>Nao</td>\n",
              "    </tr>\n",
              "    <tr>\n",
              "      <th>1</th>\n",
              "      <td>Ensolarado</td>\n",
              "      <td>Quente</td>\n",
              "      <td>Alta</td>\n",
              "      <td>Forte</td>\n",
              "      <td>Nao</td>\n",
              "    </tr>\n",
              "    <tr>\n",
              "      <th>2</th>\n",
              "      <td>Nublado</td>\n",
              "      <td>Quente</td>\n",
              "      <td>Alta</td>\n",
              "      <td>Fraco</td>\n",
              "      <td>Sim</td>\n",
              "    </tr>\n",
              "    <tr>\n",
              "      <th>3</th>\n",
              "      <td>Chovendo</td>\n",
              "      <td>Moderado</td>\n",
              "      <td>Alta</td>\n",
              "      <td>Fraco</td>\n",
              "      <td>Sim</td>\n",
              "    </tr>\n",
              "    <tr>\n",
              "      <th>4</th>\n",
              "      <td>Chovendo</td>\n",
              "      <td>Frio</td>\n",
              "      <td>Normal</td>\n",
              "      <td>Fraco</td>\n",
              "      <td>Sim</td>\n",
              "    </tr>\n",
              "  </tbody>\n",
              "</table>\n",
              "</div>"
            ],
            "text/plain": [
              "        Clima Temperatura Umidade  Vento JogarTenis\n",
              "0  Ensolarado      Quente    Alta  Fraco        Nao\n",
              "1  Ensolarado      Quente    Alta  Forte        Nao\n",
              "2     Nublado      Quente    Alta  Fraco        Sim\n",
              "3    Chovendo    Moderado    Alta  Fraco        Sim\n",
              "4    Chovendo        Frio  Normal  Fraco        Sim"
            ]
          },
          "execution_count": 3,
          "metadata": {},
          "output_type": "execute_result"
        }
      ],
      "source": [
        "# podemos ver os primeiros elementos do arquivo\n",
        "exemplo.head()"
      ]
    },
    {
      "cell_type": "markdown",
      "metadata": {},
      "source": [
        "# Dividindo o dataset"
      ]
    },
    {
      "cell_type": "markdown",
      "metadata": {
        "id": "lWF9yIEzHKQK"
      },
      "source": [
        "Os dados do nosso exemplo são categóricos e o classificador de árvore de decisão do scikit não funciona para este tipo de dado. Precisamos preparar os dados antes construir nosso classificador. Para isso vamos usar a função do pandas \"pd.get_dummies\" que converte os atributos categóricos em atributos com valores 0 e 1.\n",
        "Por exemplo, o atributo Humidity que pode receber os valores High e Normal, passa a ser representado pelos atributos Humidity_High e Humidity_Normal, que podem receber os valores 0 e 1."
      ]
    },
    {
      "cell_type": "code",
      "execution_count": 4,
      "metadata": {
        "collapsed": true,
        "id": "AS4TRxNGHKQJ"
      },
      "outputs": [],
      "source": [
        "# definir o conceito alvo e as features usadas\n",
        "feature_cols = ['Clima','Temperatura','Umidade','Vento'] # features (atributos) que serão usadas no aprendizado\n",
        "\n",
        "X = pd.get_dummies(exemplo[feature_cols]) # selecionamos as colunas correspondentes aos atributos que serão usados e converteno em uma tabela binaria\n",
        "y = exemplo.JogarTenis # conceito que queremos aprender. Selecionamos a coluna com a classificação das instâncias\n",
        "train =  0.4\n",
        "test = 1 - train\n",
        "X_train, X_test, y_train, y_test = model_selection.train_test_split(X, y, train_size = train, test_size = test, shuffle=True)\n"
      ]
    },
    {
      "cell_type": "markdown",
      "metadata": {},
      "source": [
        "Dividiremos os dados da seguinte forma: 80% dos dados serão utilizados para treino e 20% para teste. Os dados de treino serão então separados e guardados em duas variáveis: o X_train guarda os valores das linhas 0 até a 10 e o y_train guarda os valores de saída correspondente a cada linha do X_train. A divisão acontecerá da mesma forma entre o X_test e o y_test para os dados de treino\n",
        "\n",
        "Independente da % do treino, sempre que formos calcular a acurácia do treino, sempre será de 100%, pois ja treinamos com esses dados, logo ao realizamos a tentativa de classificação, saberemos qual é a resposta.\n",
        "\n",
        "Ao aumentamos a % do treinamento e ultilzamos o metodo Holdout, teremos uma acuracia melhor, pois estamos treinando dados fixos, e agora deixamos menos dados para teste( ou para errar), logo maior a chance de sucesso, tendo uma acuracia alta.\n",
        "Ao aumentarmos o numero de testes, consequetentemento diminuindo o de treinamento, temos uma acuracia tanto geral quanto do testes menor, pois agora nao tivemos muito dados para treinar(pelo menos para esse modelo de 14 instancias, para modelos grande esse acuracia pode aumentar ou diminuir), logo nossas chances de erro aumentam e assim errando na hora de classificar os dados testes."
      ]
    },
    {
      "cell_type": "markdown",
      "metadata": {
        "id": "CjkjGPT1HKQL"
      },
      "source": [
        "#   Treinar o algoritmo\n",
        "\n",
        "Vamos utilizar a função DecisionTreeClassifier para modelar. O parâmetro criterion define a função utilizada para medir a qualidade da divisão. No nosso caso definimos o critério com 'entropy'."
      ]
    },
    {
      "cell_type": "code",
      "execution_count": 5,
      "metadata": {
        "collapsed": true,
        "id": "alKgihHuHKQL"
      },
      "outputs": [],
      "source": [
        "# Criação do classificador de árvore de decisão \n",
        "modelo = DecisionTreeClassifier(criterion=\"gini\")\n",
        "# modelo = DecisionTreeClassifier(criterion=\"gini\")\n",
        "# Agora iremos treinar o nosso modelo, utilizando a função fit do sklearn, usaremos os conjuntos de dados de treino que tínhamos preparados anteriormente.\n",
        "modelo = modelo.fit(X_train, y_train)\n",
        "\n"
      ]
    },
    {
      "cell_type": "markdown",
      "metadata": {
        "id": "OwwZbyFiHKQL"
      },
      "source": [
        "# Gerando árvore"
      ]
    },
    {
      "cell_type": "code",
      "execution_count": 6,
      "metadata": {
        "colab": {
          "base_uri": "https://localhost:8080/",
          "height": 594
        },
        "collapsed": true,
        "id": "0yGcF4oFHKQM",
        "outputId": "18f2d341-e2f3-4d7d-999a-24e9f1eb80d0"
      },
      "outputs": [
        {
          "data": {
            "image/png": "[encoded data removed]",
            "text/plain": [
              "<IPython.core.display.Image object>"
            ]
          },
          "execution_count": 6,
          "metadata": {},
          "output_type": "execute_result"
        }
      ],
      "source": [
        "from sklearn.tree import export_graphviz\n",
        "from six import StringIO  \n",
        "from IPython.display import Image  \n",
        "import pydotplus\n",
        "\n",
        "# tem que usar feature_names = one_hot_data.columns pois feature_names = feature_cols tem menos atributos\n",
        "# pois o one-hot acrescenta mais\n",
        "dot_data = StringIO()\n",
        "export_graphviz(modelo, out_file=dot_data,  \n",
        "                filled=True, rounded=True,\n",
        "                special_characters=True,feature_names = X_train.columns,class_names=['Nao','Sim'])\n",
        "graph = pydotplus.graph_from_dot_data(dot_data.getvalue())  \n",
        "graph.write_png('arvore1.png')\n",
        "Image(graph.create_png())"
      ]
    },
    {
      "cell_type": "markdown",
      "metadata": {
        "id": "9A0BgFahHKQN"
      },
      "source": [
        "Podemos medir a acurácia testando quantas instâncias são classificadas corretamente. Observe que usamos todas as instâncias disponíveis no treinamento. A acurácia obtida foi 1, indicando que classificamos corretamente todos os exemplos de nosso conjunto."
      ]
    },
    {
      "cell_type": "markdown",
      "metadata": {},
      "source": [
        "# Fazer uma predição e avaliar o algoritmo\n",
        "\n",
        "Vamos agora utilizar o nosso modelo para efetuar uma predição sobre o nosso dataset. Usaremos a função predict do sklearn e o nosso conjunto de dados X_test.\n",
        "\n",
        "É natural querermos saber quão bom é o desempenho do modelo que desenvolvemos sobre o dataset. Para calcular a acurácia podemos utilizar a função score do sklearn.tree."
      ]
    },
    {
      "cell_type": "code",
      "execution_count": 7,
      "metadata": {
        "colab": {
          "base_uri": "https://localhost:8080/"
        },
        "collapsed": true,
        "id": "yzcuds5JHKQN",
        "outputId": "4cd9314d-699b-4e7a-f02b-325f2aebd938"
      },
      "outputs": [
        {
          "name": "stdout",
          "output_type": "stream",
          "text": [
            "Treinamento: 40.00% Teste: 60.00%\n",
            "Acurácia teste: 33.33%\n",
            "Acurácia treinamento: 100.00%\n",
            "Acurácia total: 57.14%\n"
          ]
        }
      ],
      "source": [
        "# Medida de acuracia, que indica quantas instâncias são corretamente classificadas\n",
        "print(\"Treinamento: {:.2f}% Teste: {:.2f}%\".format(train*100, test*100))\n",
        "print(\"Acurácia teste: {:.2f}%\".format(modelo.score(X_test, y_test)*100))\n",
        "print(\"Acurácia treinamento: {:.2f}%\".format(modelo.score(X_train, y_train)*100))\n",
        "print(\"Acurácia total: {:.2f}%\".format(modelo.score(X, y)*100))"
      ]
    },
    {
      "cell_type": "markdown",
      "metadata": {},
      "source": [
        "# Avaliar o algortimo utilizando o K-fold Cross Validation\n",
        "\n",
        "Podemos também usar o método da validação cruzada com k-fold para avaliar o nosso algoritmo. Iremos utilizar as funções KFold e cross_val_score, ambas terão de ser importadas da biblioteca sklearn.model_selection.\n",
        "\n",
        "Para todos os experimentos, o retorno da função cross_val_score é a acurácia dos testes, pois o retorno do treinamento é inrelevante, sempre será 1."
      ]
    },
    {
      "cell_type": "code",
      "execution_count": 8,
      "metadata": {},
      "outputs": [
        {
          "name": "stdout",
          "output_type": "stream",
          "text": [
            "--------------- K-fold: 3 ---------------\n",
            "Experimento[1]: 60.00%\n",
            "Experimento[2]: 80.00%\n",
            "Experimento[3]: 100.00%\n",
            "\n",
            "Media total: 80.00%\n",
            "\n",
            "--------------- K-fold: 8 ---------------\n",
            "Experimento[1]: 50.00%\n",
            "Experimento[2]: 50.00%\n",
            "Experimento[3]: 50.00%\n",
            "Experimento[4]: 100.00%\n",
            "Experimento[5]: 100.00%\n",
            "Experimento[6]: 0.00%\n",
            "Experimento[7]: 100.00%\n",
            "Experimento[8]: 100.00%\n",
            "\n",
            "Media total: 68.75%\n",
            "\n",
            "--------------- K-fold: 14 ---------------\n",
            "Experimento[1]: 100.00%\n",
            "Experimento[2]: 100.00%\n",
            "Experimento[3]: 100.00%\n",
            "Experimento[4]: 0.00%\n",
            "Experimento[5]: 100.00%\n",
            "Experimento[6]: 0.00%\n",
            "Experimento[7]: 100.00%\n",
            "Experimento[8]: 0.00%\n",
            "Experimento[9]: 100.00%\n",
            "Experimento[10]: 100.00%\n",
            "Experimento[11]: 0.00%\n",
            "Experimento[12]: 0.00%\n",
            "Experimento[13]: 100.00%\n",
            "Experimento[14]: 0.00%\n",
            "\n",
            "Media total: 57.14%\n",
            "\n"
          ]
        }
      ],
      "source": [
        "def intervalo(results):\n",
        "    mean = results.mean()\n",
        "    dv = results.std()\n",
        "    print('Acurácia média: {:.2f}%'.format(mean*100))\n",
        "    print('Intervalo de acurácia: [{:.2f}% ~ {:.2f}%]'\n",
        "           .format((mean - 2*dv)*100, (mean + 2*dv)*100))\n",
        "           \n",
        "modelo = DecisionTreeClassifier(criterion=\"gini\")\n",
        "k_list = [3,8,14]\n",
        "for k  in k_list:\n",
        "    k_fold = KFold(n_splits=k)\n",
        "    acuracias = cross_val_score(modelo, X, y, cv=k_fold) \n",
        "    print(\"-\"*15,\"K-fold: {}\".format(k),\"-\"*15)\n",
        "    for idx, acuracia in enumerate(acuracias):\n",
        "        print(\"Experimento[{}]: {:.2f}%\".format(idx+1, acuracia*100))\n",
        "\n",
        "    print(\"\\nMedia total: {:.2f}%\\n\".format(acuracias.mean()*100))\n"
      ]
    }
  ],
  "metadata": {
    "colab": {
      "collapsed_sections": [],
      "name": "IA-arvore de decisão-aula.ipynb",
      "provenance": []
    },
    "kernelspec": {
      "display_name": "Python 3.8.10 64-bit",
      "language": "python",
      "name": "python3"
    },
    "language_info": {
      "codemirror_mode": {
        "name": "ipython",
        "version": 3
      },
      "file_extension": ".py",
      "mimetype": "text/x-python",
      "name": "python",
      "nbconvert_exporter": "python",
      "pygments_lexer": "ipython3",
      "version": "3.8.10"
    },
    "vscode": {
      "interpreter": {
        "hash": "916dbcbb3f70747c44a77c7bcd40155683ae19c65e1c03b4aa3499c5328201f1"
      }
    }
  },
  "nbformat": 4,
  "nbformat_minor": 0
}
