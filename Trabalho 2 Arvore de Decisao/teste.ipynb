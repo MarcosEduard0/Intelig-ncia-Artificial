{
 "cells": [
  {
   "cell_type": "code",
   "execution_count": 60,
   "metadata": {},
   "outputs": [],
   "source": [
    "def intervalo(modelo, results):\n",
    "    mean = results[0]\n",
    "    dv = results[1]\n",
    "    print(\"-\"*10,modelo,\"-\"*10)\n",
    "    print('Acurácia média: {}'.format(mean))\n",
    "    print('Intervalo de acurácia: [{} ~ {}]\\n'\n",
    "           .format((mean - 2*dv), (mean + 2*dv)))\n",
    "    "
   ]
  },
  {
   "cell_type": "code",
   "execution_count": 66,
   "metadata": {},
   "outputs": [],
   "source": [
    "import pandas as pd\n",
    "\n",
    "def ApplyesKFold(x_axis, y_axis, k):\n",
    "    # Modelo Linear.\n",
    "    from sklearn.linear_model import LinearRegression\n",
    "    from sklearn.linear_model import ElasticNet\n",
    "    from sklearn.linear_model import Ridge\n",
    "    from sklearn.linear_model import Lasso\n",
    "    from sklearn.tree import DecisionTreeClassifier\n",
    "\n",
    "\n",
    "    # Cross-Validation modelos.\n",
    "    from sklearn.model_selection import cross_val_score\n",
    "    from sklearn.model_selection import KFold\n",
    "\n",
    "    # Configuração KFold.\n",
    "    # shuffle=True, Shuffle (embaralhar) o dataset.\n",
    "    kfold = KFold(n_splits=k, shuffle=True)\n",
    "\n",
    "    # Axis\n",
    "    x = x_axis\n",
    "    y = y_axis\n",
    "\n",
    "    # Instancias de modelos.\n",
    "    linearRegression = LinearRegression()\n",
    "    elasticNet = ElasticNet()\n",
    "    ridge = Ridge()\n",
    "    lasso = Lasso()\n",
    "    decisionTree = DecisionTreeClassifier(criterion=\"gini\")\n",
    "\n",
    "\n",
    "    # Aplica o KFold aos modelos.\n",
    "    linearRegression_result = cross_val_score(linearRegression, x, y, cv=kfold)\n",
    "    elasticNet_result = cross_val_score(elasticNet, x, y, cv=kfold)\n",
    "    ridge_result = cross_val_score(ridge, x, y, cv=kfold)\n",
    "    lasso_result = cross_val_score(lasso, x, y, cv=kfold)\n",
    "    decisionTree_result = cross_val_score(decisionTree, x, y, cv=kfold)\n",
    "\n",
    "    # Cria um dicionário para armazenar modelos lineares.\n",
    "    dic_models = {\n",
    "        \"LinearRegression\": [linearRegression_result.mean(),linearRegression_result.std()],\n",
    "        \"ElasticNet\": [elasticNet_result.mean(),elasticNet_result.std()],\n",
    "        \"Ridge\": [ridge_result.mean(),ridge_result.std()],\n",
    "        \"Lasso\": [lasso_result.mean(),lasso_result.std()],\n",
    "        \"DecisionTree\": [decisionTree_result.mean(), decisionTree_result.std()]\n",
    "    }\n",
    "    # Selecione o melhor modelo.\n",
    "    # print(dic_models.)\n",
    "   \n",
    "    for modelo, result in dic_models.items():\n",
    "        intervalo(modelo, result)\n",
    "\n",
    "    bestModel = max(dic_models, key=dic_models.get)\n",
    "\n",
    "    # print(\"Media Linear Regression: {0}\\n\"\n",
    "    #       \"Media Elastic Net: {1}\\n\"\n",
    "    #       \"Media Ridge: {2}\\n\"\n",
    "    #       \"Media Lasso: {3}\\n\"\n",
    "    #       \"Media Decision Tree: {4}\".format(\n",
    "    #           linearRegression_result.mean(), \n",
    "    #           elasticNet_result.mean(), \n",
    "    #           ridge_result.mean(), \n",
    "    #           lasso_result.mean(), \n",
    "    #           decisionTree_result.mean()\n",
    "    #           ))\n",
    "    # print()\n",
    "    print(\"O melhor modelo e: {0} com valor: {1}\".format(\n",
    "        bestModel, dic_models[bestModel][0]))\n"
   ]
  },
  {
   "cell_type": "code",
   "execution_count": 67,
   "metadata": {},
   "outputs": [
    {
     "name": "stdout",
     "output_type": "stream",
     "text": [
      "---------- LinearRegression ----------\n",
      "Acurácia média: 0.9163458985367814\n",
      "Intervalo de acurácia: [0.902808145371363 ~ 0.9298836517021998]\n",
      "\n",
      "---------- ElasticNet ----------\n",
      "Acurácia média: 0.916809583703133\n",
      "Intervalo de acurácia: [0.9092290050427382 ~ 0.9243901623635279]\n",
      "\n",
      "---------- Ridge ----------\n",
      "Acurácia média: 0.9160908601864746\n",
      "Intervalo de acurácia: [0.902492559448957 ~ 0.9296891609239921]\n",
      "\n",
      "---------- Lasso ----------\n",
      "Acurácia média: 0.9164753570345038\n",
      "Intervalo de acurácia: [0.9096618429170932 ~ 0.9232888711519144]\n",
      "\n",
      "---------- DecisionTree ----------\n",
      "Acurácia média: 0.8290000000000001\n",
      "Intervalo de acurácia: [0.778245689838202 ~ 0.8797543101617982]\n",
      "\n",
      "O melhor modelo e: ElasticNet com valor: 0.916809583703133\n"
     ]
    }
   ],
   "source": [
    "# df = pd.read_csv(\"Admission_Predict.csv\")\n",
    "df = pd.read_csv(\"datasetMobile/train.csv\")\n",
    "# df.drop('Serial No.', axis=1, inplace=True)\n",
    "\n",
    "x = df.drop('price_range', axis=1)\n",
    "y = df['price_range']\n",
    "\n",
    "ApplyesKFold(x, y, 10)"
   ]
  }
 ],
 "metadata": {
  "kernelspec": {
   "display_name": "Python 3.10.4 64-bit",
   "language": "python",
   "name": "python3"
  },
  "language_info": {
   "codemirror_mode": {
    "name": "ipython",
    "version": 3
   },
   "file_extension": ".py",
   "mimetype": "text/x-python",
   "name": "python",
   "nbconvert_exporter": "python",
   "pygments_lexer": "ipython3",
   "version": "3.10.4"
  },
  "orig_nbformat": 4,
  "vscode": {
   "interpreter": {
    "hash": "8edc000019d7851bcb93f645abcdc7e3159d4451ab9610fb6ecb081fe958828c"
   }
  }
 },
 "nbformat": 4,
 "nbformat_minor": 2
}
