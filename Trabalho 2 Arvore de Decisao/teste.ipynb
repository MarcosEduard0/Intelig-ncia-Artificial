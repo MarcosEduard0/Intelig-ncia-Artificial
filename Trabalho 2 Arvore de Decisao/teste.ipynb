{
 "cells": [
  {
   "cell_type": "code",
   "execution_count": 2,
   "metadata": {},
   "outputs": [],
   "source": [
    "def intervalo(modelo, results):\n",
    "    mean = results[0]\n",
    "    dv = results[1]\n",
    "    print(\"-\"*10,modelo,\"-\"*10)\n",
    "    print('Acurácia média: {}'.format(mean))\n",
    "    print('Intervalo de acurácia: [{} ~ {}]\\n'\n",
    "           .format((mean - 2*dv), (mean + 2*dv)))\n",
    "    "
   ]
  },
  {
   "cell_type": "code",
   "execution_count": 3,
   "metadata": {},
   "outputs": [],
   "source": [
    "import pandas as pd\n",
    "\n",
    "def ApplyesKFold(x_axis, y_axis, k):\n",
    "    # Modelo Linear.\n",
    "    from sklearn.linear_model import LinearRegression\n",
    "    from sklearn.linear_model import ElasticNet\n",
    "    from sklearn.linear_model import Ridge\n",
    "    from sklearn.linear_model import Lasso\n",
    "    from sklearn.tree import DecisionTreeClassifier\n",
    "\n",
    "\n",
    "    # Cross-Validation modelos.\n",
    "    from sklearn.model_selection import cross_val_score\n",
    "    from sklearn.model_selection import KFold\n",
    "\n",
    "    # Configuração KFold.\n",
    "    # shuffle=True, Shuffle (embaralhar) o dataset.\n",
    "    kfold = KFold(n_splits=k, shuffle=True)\n",
    "\n",
    "    # Axis\n",
    "    x = x_axis\n",
    "    y = y_axis\n",
    "\n",
    "    # Instancias de modelos.\n",
    "    linearRegression = LinearRegression()\n",
    "    elasticNet = ElasticNet()\n",
    "    ridge = Ridge()\n",
    "    lasso = Lasso()\n",
    "    decisionTree = DecisionTreeClassifier(criterion=\"gini\")\n",
    "\n",
    "\n",
    "    # Aplica o KFold aos modelos.\n",
    "    linearRegression_result = cross_val_score(linearRegression, x, y, cv=kfold)\n",
    "    elasticNet_result = cross_val_score(elasticNet, x, y, cv=kfold)\n",
    "    ridge_result = cross_val_score(ridge, x, y, cv=kfold)\n",
    "    lasso_result = cross_val_score(lasso, x, y, cv=kfold)\n",
    "    decisionTree_result = cross_val_score(decisionTree, x, y, cv=kfold)\n",
    "\n",
    "    # Cria um dicionário para armazenar modelos lineares.\n",
    "    dic_models = {\n",
    "        \"LinearRegression\": [linearRegression_result.mean(),linearRegression_result.std()],\n",
    "        \"ElasticNet\": [elasticNet_result.mean(),elasticNet_result.std()],\n",
    "        \"Ridge\": [ridge_result.mean(),ridge_result.std()],\n",
    "        \"Lasso\": [lasso_result.mean(),lasso_result.std()],\n",
    "        \"DecisionTree\": [decisionTree_result.mean(), decisionTree_result.std()]\n",
    "    }\n",
    "    # Selecione o melhor modelo.\n",
    "    # print(dic_models.)\n",
    "   \n",
    "    for modelo, result in dic_models.items():\n",
    "        intervalo(modelo, result)\n",
    "\n",
    "    bestModel = max(dic_models, key=dic_models.get)\n",
    "\n",
    "    # print(\"Media Linear Regression: {0}\\n\"\n",
    "    #       \"Media Elastic Net: {1}\\n\"\n",
    "    #       \"Media Ridge: {2}\\n\"\n",
    "    #       \"Media Lasso: {3}\\n\"\n",
    "    #       \"Media Decision Tree: {4}\".format(\n",
    "    #           linearRegression_result.mean(), \n",
    "    #           elasticNet_result.mean(), \n",
    "    #           ridge_result.mean(), \n",
    "    #           lasso_result.mean(), \n",
    "    #           decisionTree_result.mean()\n",
    "    #           ))\n",
    "    # print()\n",
    "    print(\"O melhor modelo é: {0} com valor: {1}\".format(\n",
    "        bestModel, dic_models[bestModel][0]))\n"
   ]
  },
  {
   "cell_type": "code",
   "execution_count": 4,
   "metadata": {},
   "outputs": [
    {
     "name": "stdout",
     "output_type": "stream",
     "text": [
      "---------- LinearRegression ----------\n",
      "Acurácia média: 0.9162577978305041\n",
      "Intervalo de acurácia: [0.9055489249421026 ~ 0.9269666707189056]\n",
      "\n",
      "---------- ElasticNet ----------\n",
      "Acurácia média: 0.9169652643335178\n",
      "Intervalo de acurácia: [0.909679023591236 ~ 0.9242515050757996]\n",
      "\n",
      "---------- Ridge ----------\n",
      "Acurácia média: 0.9160881949563663\n",
      "Intervalo de acurácia: [0.9052428755416724 ~ 0.9269335143710602]\n",
      "\n",
      "---------- Lasso ----------\n",
      "Acurácia média: 0.916259232231569\n",
      "Intervalo de acurácia: [0.9027061151582054 ~ 0.9298123493049326]\n",
      "\n",
      "---------- DecisionTree ----------\n",
      "Acurácia média: 0.841\n",
      "Intervalo de acurácia: [0.8003060201012484 ~ 0.8816939798987515]\n",
      "\n",
      "O melhor modelo e: ElasticNet com valor: 0.9169652643335178\n"
     ]
    }
   ],
   "source": [
    "# df = pd.read_csv(\"Admission_Predict.csv\")\n",
    "df = pd.read_csv(\"datasetMobile/train.csv\")\n",
    "# df.drop('Serial No.', axis=1, inplace=True)\n",
    "\n",
    "x = df.drop('price_range', axis=1)\n",
    "y = df['price_range']\n",
    "\n",
    "ApplyesKFold(x, y, 10)"
   ]
  }
 ],
 "metadata": {
  "kernelspec": {
   "display_name": "Python 3.8.10 64-bit",
   "language": "python",
   "name": "python3"
  },
  "language_info": {
   "codemirror_mode": {
    "name": "ipython",
    "version": 3
   },
   "file_extension": ".py",
   "mimetype": "text/x-python",
   "name": "python",
   "nbconvert_exporter": "python",
   "pygments_lexer": "ipython3",
   "version": "3.8.10"
  },
  "orig_nbformat": 4,
  "vscode": {
   "interpreter": {
    "hash": "916dbcbb3f70747c44a77c7bcd40155683ae19c65e1c03b4aa3499c5328201f1"
   }
  }
 },
 "nbformat": 4,
 "nbformat_minor": 2
}
